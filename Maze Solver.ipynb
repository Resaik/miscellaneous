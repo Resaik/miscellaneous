{
 "cells": [
  {
   "cell_type": "markdown",
   "metadata": {
    "id": "OPnFc0DMSR0p",
    "tags": []
   },
   "source": [
    "# Summary"
   ]
  },
  {
   "cell_type": "markdown",
   "metadata": {
    "id": "9zoruE4YSXH4"
   },
   "source": [
    "The methods in this notebook accept either an excel file or a text representation of a numpy array as a data source\n",
    "\n",
    "They enable the user to: \n",
    "\n",
    "\n",
    "*   display mazes in the command line using ascii symbols\n",
    "*   transform the basic mazes into a graph of the distances between each \"tile\"\n",
    "\n",
    "*   find the fastest path from a single source to a single target using Dijkstra’s algorithm and print the solution to the command line\n",
    "*   display the found solution on top of the ascii output of the maze\n",
    "\n",
    "\n",
    "This code was originally written for a 48 hour take home exam\n"
   ]
  },
  {
   "cell_type": "markdown",
   "metadata": {
    "id": "qHA2FuqDNTug"
   },
   "source": [
    "# Setup"
   ]
  },
  {
   "cell_type": "code",
   "execution_count": 50,
   "metadata": {
    "executionInfo": {
     "elapsed": 234,
     "status": "ok",
     "timestamp": 1637965018312,
     "user": {
      "displayName": "Jan Christian Kaiser",
      "photoUrl": "https://lh3.googleusercontent.com/a-/AOh14GimmYysXRezxt2RgVEciFULYHs48Hdj9DPi9piVlg=s64",
      "userId": "08449184934316396700"
     },
     "user_tz": -60
    },
    "id": "z6ciPUxI2BAS"
   },
   "outputs": [],
   "source": [
    "import pandas as pd\n",
    "import numpy as np\n",
    "from scipy.sparse.csgraph import shortest_path\n",
    "\n",
    "\n",
    "#This needs to be set up individually and cannot be tested directly\n",
    "#I'm saving files created in excel in my drive to quickly create and test new mazes\n",
    "#Link to tutorial: https://towardsdatascience.com/3-ways-to-load-csv-files-into-colab-7c14fcbdcb92\n",
    "#However all test mazes have been integrated into the jupyter file\n",
    "\n",
    "#from google.colab import drive \n",
    "#drive.mount('/content/drive')\n"
   ]
  },
  {
   "cell_type": "markdown",
   "metadata": {
    "id": "sMEAh7l1Ncka"
   },
   "source": [
    "# Parsing and graphically verifying the mazes"
   ]
  },
  {
   "cell_type": "markdown",
   "metadata": {
    "id": "SNfY_qXYxxnQ"
   },
   "source": [
    "Excel Parser"
   ]
  },
  {
   "cell_type": "code",
   "execution_count": 51,
   "metadata": {
    "executionInfo": {
     "elapsed": 250,
     "status": "ok",
     "timestamp": 1637965018896,
     "user": {
      "displayName": "Jan Christian Kaiser",
      "photoUrl": "https://lh3.googleusercontent.com/a-/AOh14GimmYysXRezxt2RgVEciFULYHs48Hdj9DPi9piVlg=s64",
      "userId": "08449184934316396700"
     },
     "user_tz": -60
    },
    "id": "Y6OgrX9E8AKz"
   },
   "outputs": [],
   "source": [
    "#Parses Excel Files and returns a numpy string array, this sets na values to ' ' for ease of printing\n",
    "def importMaze(loc_str):\n",
    "  pd_df = pd.read_excel(loc_str, index_col=None, header=None)\n",
    "  pd_df=pd_df.fillna(\" \")\n",
    "  np_array = pd_df.to_numpy(dtype=str)\n",
    "  return np_array"
   ]
  },
  {
   "cell_type": "markdown",
   "metadata": {
    "id": "_mCAEAW0x1l_"
   },
   "source": [
    "Maze Renderer"
   ]
  },
  {
   "cell_type": "code",
   "execution_count": 52,
   "metadata": {
    "executionInfo": {
     "elapsed": 4,
     "status": "ok",
     "timestamp": 1637965018897,
     "user": {
      "displayName": "Jan Christian Kaiser",
      "photoUrl": "https://lh3.googleusercontent.com/a-/AOh14GimmYysXRezxt2RgVEciFULYHs48Hdj9DPi9piVlg=s64",
      "userId": "08449184934316396700"
     },
     "user_tz": -60
    },
    "id": "4RNLv08B9lVx"
   },
   "outputs": [],
   "source": [
    "#Renders a maze, expects a 2 dimensional np array\n",
    "def printMaze(np_str_array):\n",
    "  print('')#To secure a new line to avoid graphical artifacts\n",
    "  for i in range(np_str_array.shape[1] + 2): #renders the top line\n",
    "    print('-',end='')\n",
    "    if(i==np_str_array.shape[1]+1):print(' ')\n",
    "\n",
    "  for i in range(np_str_array.shape[0]):\n",
    "    for j in range(np_str_array.shape[1]):\n",
    "      if(j==0):print('|',end='')\n",
    "      print(np_str_array[i,j],end='')\n",
    "      if(j==np_str_array.shape[1]-1): print('|')\n",
    "\n",
    "  for i in range(np_str_array.shape[1] + 2): #renders the bottom line\n",
    "    print('-',end='')   "
   ]
  },
  {
   "cell_type": "markdown",
   "metadata": {
    "id": "HH6iYEMN87oG"
   },
   "source": [
    "Importing test data"
   ]
  },
  {
   "cell_type": "markdown",
   "metadata": {
    "id": "kQ1q8HBMNs2D"
   },
   "source": [
    "# In here lies the test data as text, shield your eyes 😏"
   ]
  },
  {
   "cell_type": "code",
   "execution_count": 53,
   "metadata": {
    "executionInfo": {
     "elapsed": 857,
     "status": "ok",
     "timestamp": 1637965019750,
     "user": {
      "displayName": "Jan Christian Kaiser",
      "photoUrl": "https://lh3.googleusercontent.com/a-/AOh14GimmYysXRezxt2RgVEciFULYHs48Hdj9DPi9piVlg=s64",
      "userId": "08449184934316396700"
     },
     "user_tz": -60
    },
    "id": "ubYY54bV5OCx"
   },
   "outputs": [],
   "source": [
    "####This is how I originally imported the test data\n",
    "#All outputs were written to the console and saved as text for future ease of use\n",
    "#and to allow direct testing by different users\n",
    "\n",
    "#test_case0 = importMaze('/content/drive/MyDrive/Colab Notebooks/data/testmaze0.xlsx')\n",
    "\n",
    "#This allows me to output arrays to the console without any abbreviation, but \n",
    "#might cause issues on some system, rerunning the output seems to fix this in colab:\n",
    "\n",
    "#import sys\n",
    "#np.set_printoptions(threshold=sys.maxsize) \n",
    "\n",
    "test_case = np.array([['#', ' ', ' ', ' ', '#', 'T'],\n",
    "       ['#', ' ', '#', ' ', '#', ' '],\n",
    "       ['#', ' ', '#', ' ', '#', ' '],\n",
    "       ['#', ' ', '#', ' ', '#', ' '],\n",
    "       ['#', ' ', '#', ' ', '#', ' '],\n",
    "       ['#', ' ', '#', ' ', '#', ' '],\n",
    "       [' ', ' ', '#', ' ', '#', ' '],\n",
    "       [' ', ' ', '#', ' ', '#', ' '],\n",
    "       [' ', ' ', '#', ' ', '#', ' '],\n",
    "       ['S', ' ', '#', ' ', ' ', ' ']])\n",
    "\n",
    "test_case0 = np.array([[' ', ' ', ' ', ' ', ' ', ' ', ' ', ' ', ' ', ' ', ' ', ' ', ' ',\n",
    "        ' ', ' ', ' ', ' ', ' ', ' ', ' ', ' ', ' ', ' ', ' ', ' ', '#',\n",
    "        ' ', ' ', ' ', 'T'],\n",
    "       [' ', ' ', ' ', ' ', ' ', ' ', ' ', ' ', ' ', ' ', ' ', ' ', ' ',\n",
    "        ' ', ' ', ' ', ' ', ' ', ' ', ' ', ' ', ' ', ' ', ' ', ' ', '#',\n",
    "        ' ', ' ', ' ', ' '],\n",
    "       [' ', ' ', ' ', ' ', ' ', ' ', ' ', ' ', ' ', ' ', ' ', ' ', ' ',\n",
    "        ' ', ' ', ' ', ' ', ' ', ' ', ' ', ' ', ' ', ' ', ' ', ' ', '#',\n",
    "        ' ', ' ', ' ', ' '],\n",
    "       [' ', ' ', ' ', ' ', '#', '#', '#', '#', '#', '#', '#', '#', '#',\n",
    "        '#', '#', '#', '#', '#', '#', '#', '#', '#', '#', '#', ' ', '#',\n",
    "        ' ', ' ', ' ', ' '],\n",
    "       [' ', ' ', ' ', ' ', ' ', ' ', ' ', ' ', ' ', ' ', ' ', ' ', ' ',\n",
    "        ' ', ' ', ' ', ' ', ' ', ' ', ' ', ' ', ' ', ' ', '#', ' ', '#',\n",
    "        ' ', ' ', ' ', ' '],\n",
    "       [' ', ' ', ' ', ' ', ' ', ' ', ' ', ' ', ' ', ' ', ' ', ' ', ' ',\n",
    "        ' ', ' ', ' ', ' ', ' ', ' ', ' ', ' ', ' ', ' ', '#', ' ', '#',\n",
    "        ' ', ' ', ' ', ' '],\n",
    "       [' ', ' ', ' ', ' ', ' ', ' ', ' ', ' ', ' ', ' ', ' ', ' ', ' ',\n",
    "        ' ', ' ', ' ', ' ', ' ', ' ', ' ', ' ', ' ', ' ', '#', ' ', '#',\n",
    "        ' ', ' ', ' ', ' '],\n",
    "       [' ', ' ', ' ', ' ', ' ', ' ', ' ', ' ', ' ', ' ', ' ', ' ', ' ',\n",
    "        ' ', ' ', ' ', ' ', ' ', ' ', ' ', ' ', ' ', ' ', '#', ' ', '#',\n",
    "        ' ', ' ', ' ', ' '],\n",
    "       ['#', '#', '#', '#', '#', '#', '#', '#', '#', '#', '#', '#', '#',\n",
    "        '#', '#', '#', '#', '#', '#', '#', '#', ' ', ' ', '#', ' ', '#',\n",
    "        ' ', ' ', ' ', ' '],\n",
    "       [' ', ' ', ' ', ' ', ' ', ' ', ' ', ' ', ' ', ' ', ' ', ' ', ' ',\n",
    "        ' ', ' ', ' ', ' ', ' ', ' ', ' ', ' ', ' ', ' ', '#', ' ', '#',\n",
    "        ' ', ' ', ' ', ' '],\n",
    "       [' ', ' ', ' ', ' ', ' ', ' ', ' ', ' ', ' ', ' ', ' ', ' ', ' ',\n",
    "        ' ', ' ', ' ', ' ', ' ', ' ', ' ', ' ', ' ', ' ', '#', ' ', '#',\n",
    "        ' ', ' ', ' ', ' '],\n",
    "       [' ', ' ', ' ', ' ', ' ', ' ', ' ', ' ', ' ', ' ', ' ', ' ', ' ',\n",
    "        ' ', ' ', ' ', ' ', ' ', ' ', ' ', ' ', ' ', ' ', '#', ' ', '#',\n",
    "        ' ', ' ', ' ', ' '],\n",
    "       [' ', ' ', ' ', ' ', ' ', ' ', ' ', ' ', ' ', ' ', ' ', ' ', ' ',\n",
    "        ' ', ' ', ' ', ' ', ' ', ' ', ' ', ' ', ' ', ' ', '#', ' ', '#',\n",
    "        ' ', ' ', ' ', ' '],\n",
    "       [' ', ' ', ' ', ' ', ' ', '#', '#', '#', '#', '#', '#', '#', '#',\n",
    "        '#', '#', '#', '#', '#', '#', '#', '#', '#', '#', '#', ' ', '#',\n",
    "        ' ', ' ', ' ', ' '],\n",
    "       [' ', ' ', ' ', ' ', ' ', '#', ' ', ' ', ' ', ' ', ' ', ' ', ' ',\n",
    "        ' ', ' ', ' ', ' ', ' ', ' ', ' ', ' ', ' ', ' ', ' ', ' ', '#',\n",
    "        ' ', ' ', ' ', ' '],\n",
    "       [' ', ' ', ' ', ' ', ' ', '#', ' ', ' ', ' ', ' ', ' ', ' ', ' ',\n",
    "        ' ', ' ', ' ', ' ', ' ', ' ', ' ', ' ', ' ', ' ', ' ', ' ', '#',\n",
    "        ' ', ' ', ' ', ' '],\n",
    "       [' ', ' ', ' ', ' ', ' ', '#', '#', '#', '#', '#', '#', '#', '#',\n",
    "        '#', ' ', ' ', ' ', ' ', ' ', ' ', ' ', ' ', ' ', ' ', '#', '#',\n",
    "        ' ', ' ', ' ', ' '],\n",
    "       [' ', ' ', ' ', ' ', ' ', ' ', ' ', ' ', ' ', ' ', '#', ' ', ' ',\n",
    "        '#', ' ', ' ', ' ', ' ', ' ', ' ', ' ', ' ', ' ', '#', ' ', '#',\n",
    "        ' ', ' ', ' ', ' '],\n",
    "       [' ', ' ', ' ', ' ', ' ', ' ', ' ', ' ', ' ', ' ', '#', ' ', ' ',\n",
    "        '#', ' ', ' ', ' ', ' ', ' ', ' ', ' ', ' ', '#', ' ', ' ', '#',\n",
    "        ' ', ' ', ' ', ' '],\n",
    "       [' ', ' ', ' ', ' ', ' ', ' ', ' ', ' ', ' ', ' ', ' ', ' ', ' ',\n",
    "        '#', ' ', ' ', ' ', ' ', '#', '#', '#', '#', ' ', ' ', ' ', '#',\n",
    "        ' ', ' ', ' ', ' '],\n",
    "       [' ', ' ', ' ', ' ', ' ', ' ', ' ', ' ', ' ', ' ', ' ', ' ', ' ',\n",
    "        '#', ' ', ' ', ' ', ' ', ' ', ' ', ' ', ' ', ' ', ' ', ' ', '#',\n",
    "        ' ', ' ', ' ', ' '],\n",
    "       ['#', '#', '#', '#', '#', '#', '#', '#', '#', '#', '#', '#', ' ',\n",
    "        '#', ' ', ' ', ' ', ' ', ' ', ' ', ' ', ' ', ' ', ' ', ' ', '#',\n",
    "        ' ', ' ', ' ', ' '],\n",
    "       [' ', ' ', ' ', ' ', ' ', ' ', ' ', ' ', ' ', ' ', ' ', '#', ' ',\n",
    "        '#', ' ', ' ', ' ', ' ', ' ', ' ', ' ', ' ', ' ', ' ', ' ', '#',\n",
    "        ' ', ' ', ' ', ' '],\n",
    "       [' ', ' ', ' ', ' ', ' ', ' ', ' ', ' ', ' ', ' ', ' ', '#', ' ',\n",
    "        '#', ' ', ' ', ' ', ' ', ' ', ' ', ' ', ' ', ' ', ' ', ' ', '#',\n",
    "        ' ', ' ', ' ', ' '],\n",
    "       ['S', ' ', ' ', ' ', ' ', ' ', ' ', ' ', ' ', ' ', ' ', ' ', ' ',\n",
    "        '#', ' ', ' ', ' ', ' ', ' ', ' ', ' ', ' ', ' ', ' ', ' ', ' ',\n",
    "        ' ', ' ', ' ', ' ']])\n",
    "\n",
    "\n",
    "test_case1 = np.array([[' ', ' ', ' ', ' ', ' ', ' ', ' ', ' ', ' ', ' ', ' ', ' ', ' ',\n",
    "        ' ', ' ', ' ', ' ', ' ', ' ', ' ', ' ', ' ', ' ', ' ', ' ', ' ',\n",
    "        ' ', ' ', ' ', ' ', ' ', ' ', ' ', 'T'],\n",
    "       [' ', ' ', ' ', ' ', ' ', ' ', ' ', ' ', ' ', ' ', ' ', ' ', ' ',\n",
    "        ' ', ' ', ' ', ' ', ' ', ' ', ' ', ' ', ' ', ' ', ' ', ' ', ' ',\n",
    "        ' ', ' ', ' ', ' ', ' ', ' ', ' ', ' '],\n",
    "       ['#', '#', '#', '#', '#', '#', '#', '#', '#', '#', '#', '#', '#',\n",
    "        '#', '#', '#', '#', '#', '#', '#', '#', '#', '#', ' ', ' ', ' ',\n",
    "        ' ', ' ', ' ', ' ', ' ', ' ', ' ', ' '],\n",
    "       [' ', ' ', ' ', ' ', ' ', ' ', '#', ' ', ' ', ' ', ' ', ' ', ' ',\n",
    "        ' ', ' ', ' ', ' ', ' ', ' ', ' ', '#', ' ', ' ', ' ', ' ', ' ',\n",
    "        ' ', ' ', ' ', ' ', ' ', ' ', ' ', ' '],\n",
    "       ['#', '#', '#', '#', '#', ' ', '#', '#', '#', '#', '#', ' ', '#',\n",
    "        '#', '#', '#', '#', ' ', '#', '#', '#', '#', '#', ' ', ' ', ' ',\n",
    "        ' ', ' ', ' ', ' ', ' ', ' ', ' ', ' '],\n",
    "       [' ', ' ', '#', ' ', ' ', ' ', '#', ' ', ' ', ' ', ' ', ' ', '#',\n",
    "        ' ', ' ', ' ', ' ', ' ', ' ', ' ', '#', ' ', ' ', ' ', ' ', ' ',\n",
    "        ' ', ' ', ' ', ' ', ' ', ' ', ' ', ' '],\n",
    "       [' ', ' ', ' ', ' ', ' ', ' ', '#', ' ', ' ', ' ', ' ', ' ', '#',\n",
    "        ' ', ' ', ' ', ' ', ' ', ' ', ' ', '#', ' ', ' ', ' ', ' ', ' ',\n",
    "        ' ', ' ', ' ', ' ', ' ', ' ', ' ', ' '],\n",
    "       [' ', ' ', '#', ' ', ' ', ' ', '#', ' ', ' ', ' ', ' ', ' ', '#',\n",
    "        ' ', ' ', ' ', ' ', ' ', ' ', ' ', '#', ' ', ' ', ' ', ' ', ' ',\n",
    "        ' ', ' ', ' ', ' ', ' ', ' ', ' ', ' '],\n",
    "       [' ', ' ', '#', ' ', ' ', ' ', '#', ' ', ' ', ' ', ' ', ' ', '#',\n",
    "        ' ', ' ', ' ', ' ', ' ', ' ', ' ', '#', ' ', ' ', ' ', ' ', ' ',\n",
    "        ' ', ' ', ' ', ' ', ' ', ' ', ' ', ' '],\n",
    "       ['#', ' ', '#', ' ', ' ', ' ', '#', ' ', ' ', ' ', ' ', ' ', '#',\n",
    "        ' ', ' ', ' ', ' ', ' ', ' ', ' ', '#', ' ', ' ', ' ', ' ', ' ',\n",
    "        ' ', ' ', ' ', ' ', ' ', ' ', ' ', ' '],\n",
    "       [' ', ' ', '#', ' ', ' ', ' ', '#', ' ', ' ', ' ', ' ', ' ', '#',\n",
    "        ' ', ' ', ' ', ' ', ' ', ' ', ' ', '#', ' ', ' ', ' ', ' ', ' ',\n",
    "        ' ', ' ', ' ', ' ', ' ', ' ', ' ', ' '],\n",
    "       [' ', ' ', '#', ' ', ' ', ' ', '#', ' ', ' ', ' ', ' ', ' ', '#',\n",
    "        ' ', ' ', ' ', ' ', ' ', ' ', ' ', '#', ' ', ' ', ' ', ' ', ' ',\n",
    "        ' ', ' ', ' ', ' ', ' ', ' ', ' ', ' '],\n",
    "       [' ', ' ', '#', ' ', ' ', ' ', '#', ' ', ' ', ' ', ' ', ' ', '#',\n",
    "        ' ', ' ', ' ', ' ', ' ', ' ', ' ', '#', ' ', ' ', ' ', ' ', ' ',\n",
    "        ' ', ' ', ' ', ' ', ' ', ' ', ' ', ' '],\n",
    "       [' ', ' ', '#', ' ', ' ', ' ', '#', '#', '#', '#', '#', ' ', '#',\n",
    "        '#', '#', '#', '#', ' ', ' ', ' ', '#', ' ', ' ', ' ', ' ', ' ',\n",
    "        ' ', ' ', ' ', ' ', ' ', ' ', ' ', ' '],\n",
    "       [' ', ' ', '#', ' ', ' ', ' ', '#', ' ', ' ', ' ', ' ', ' ', ' ',\n",
    "        ' ', ' ', ' ', '#', ' ', ' ', ' ', '#', ' ', ' ', ' ', ' ', ' ',\n",
    "        ' ', ' ', ' ', ' ', ' ', ' ', ' ', ' '],\n",
    "       [' ', ' ', '#', ' ', ' ', ' ', '#', ' ', ' ', ' ', ' ', ' ', ' ',\n",
    "        ' ', ' ', ' ', '#', ' ', ' ', ' ', '#', ' ', ' ', ' ', ' ', ' ',\n",
    "        ' ', ' ', ' ', ' ', ' ', ' ', ' ', ' '],\n",
    "       [' ', ' ', '#', ' ', ' ', ' ', '#', ' ', ' ', ' ', ' ', ' ', ' ',\n",
    "        ' ', ' ', ' ', '#', ' ', ' ', ' ', '#', ' ', ' ', ' ', ' ', ' ',\n",
    "        ' ', ' ', ' ', ' ', ' ', ' ', ' ', ' '],\n",
    "       [' ', ' ', '#', ' ', ' ', ' ', '#', ' ', ' ', ' ', ' ', ' ', ' ',\n",
    "        ' ', ' ', ' ', '#', ' ', ' ', ' ', '#', ' ', ' ', ' ', ' ', ' ',\n",
    "        ' ', ' ', ' ', ' ', ' ', ' ', ' ', ' '],\n",
    "       [' ', ' ', '#', ' ', ' ', ' ', '#', ' ', ' ', ' ', ' ', ' ', ' ',\n",
    "        ' ', ' ', ' ', '#', ' ', ' ', ' ', '#', ' ', ' ', ' ', ' ', ' ',\n",
    "        ' ', ' ', ' ', ' ', ' ', ' ', ' ', ' '],\n",
    "       [' ', ' ', '#', ' ', ' ', ' ', '#', ' ', ' ', ' ', ' ', ' ', ' ',\n",
    "        ' ', ' ', ' ', '#', ' ', ' ', ' ', '#', ' ', ' ', ' ', ' ', ' ',\n",
    "        ' ', ' ', ' ', ' ', ' ', ' ', ' ', ' '],\n",
    "       [' ', ' ', '#', ' ', ' ', ' ', '#', ' ', ' ', ' ', ' ', ' ', ' ',\n",
    "        ' ', ' ', ' ', '#', ' ', ' ', ' ', '#', ' ', ' ', ' ', ' ', ' ',\n",
    "        ' ', ' ', ' ', ' ', ' ', ' ', ' ', ' '],\n",
    "       [' ', ' ', '#', ' ', ' ', ' ', '#', ' ', ' ', ' ', ' ', ' ', ' ',\n",
    "        ' ', ' ', ' ', '#', ' ', ' ', ' ', '#', ' ', ' ', ' ', ' ', ' ',\n",
    "        ' ', ' ', ' ', ' ', ' ', ' ', ' ', ' '],\n",
    "       ['#', ' ', '#', ' ', ' ', ' ', '#', ' ', ' ', ' ', ' ', ' ', ' ',\n",
    "        ' ', ' ', ' ', '#', ' ', ' ', ' ', '#', ' ', ' ', ' ', ' ', ' ',\n",
    "        ' ', ' ', ' ', ' ', ' ', ' ', ' ', ' '],\n",
    "       [' ', ' ', '#', ' ', ' ', ' ', '#', ' ', ' ', ' ', ' ', ' ', ' ',\n",
    "        ' ', ' ', ' ', '#', ' ', ' ', ' ', '#', ' ', ' ', ' ', ' ', ' ',\n",
    "        ' ', ' ', ' ', ' ', ' ', ' ', ' ', ' '],\n",
    "       [' ', ' ', '#', ' ', ' ', ' ', '#', ' ', ' ', ' ', ' ', ' ', ' ',\n",
    "        ' ', ' ', ' ', '#', ' ', ' ', ' ', '#', ' ', ' ', ' ', ' ', ' ',\n",
    "        ' ', ' ', ' ', ' ', ' ', ' ', ' ', ' '],\n",
    "       ['S', ' ', '#', ' ', ' ', ' ', '#', '#', '#', '#', '#', ' ', '#',\n",
    "        '#', '#', '#', '#', ' ', ' ', ' ', '#', ' ', ' ', ' ', ' ', ' ',\n",
    "        ' ', ' ', ' ', ' ', ' ', ' ', ' ', ' '],\n",
    "       ['#', '#', '#', '#', '#', ' ', ' ', ' ', ' ', ' ', ' ', ' ', '#',\n",
    "        ' ', ' ', ' ', ' ', ' ', ' ', ' ', ' ', ' ', ' ', ' ', ' ', ' ',\n",
    "        ' ', ' ', ' ', ' ', ' ', ' ', ' ', ' '],\n",
    "       ['#', '#', '#', '#', '#', '#', '#', '#', '#', '#', '#', '#', '#',\n",
    "        '#', '#', '#', '#', '#', '#', '#', '#', ' ', ' ', ' ', ' ', ' ',\n",
    "        ' ', ' ', ' ', ' ', ' ', ' ', ' ', ' ']])\n",
    "\n",
    "test_case2 = np.array([['S', ' ', ' ', ' ', ' ', ' ', ' ', ' ', ' ', ' ', ' ', ' ', ' ',\n",
    "        ' ', ' ', ' ', ' ', ' ', ' ', ' ', ' ', ' ', ' ', ' ', ' ', ' ',\n",
    "        ' ', ' '],\n",
    "       [' ', ' ', ' ', ' ', ' ', ' ', ' ', ' ', ' ', ' ', ' ', ' ', ' ',\n",
    "        ' ', ' ', ' ', ' ', ' ', ' ', ' ', ' ', ' ', ' ', ' ', ' ', ' ',\n",
    "        ' ', ' '],\n",
    "       [' ', '#', '#', '#', '#', '#', '#', '#', '#', '#', '#', '#', '#',\n",
    "        '#', '#', '#', '#', '#', '#', '#', '#', '#', '#', ' ', ' ', ' ',\n",
    "        ' ', ' '],\n",
    "       [' ', ' ', ' ', ' ', ' ', ' ', '#', ' ', ' ', ' ', ' ', ' ', ' ',\n",
    "        ' ', ' ', ' ', ' ', ' ', ' ', ' ', '#', ' ', ' ', ' ', ' ', ' ',\n",
    "        ' ', ' '],\n",
    "       [' ', '#', '#', '#', '#', ' ', '#', '#', '#', '#', '#', ' ', '#',\n",
    "        '#', '#', '#', '#', ' ', '#', '#', '#', '#', '#', ' ', ' ', ' ',\n",
    "        ' ', ' '],\n",
    "       [' ', ' ', '#', ' ', ' ', ' ', '#', ' ', ' ', ' ', ' ', ' ', '#',\n",
    "        ' ', ' ', ' ', ' ', ' ', ' ', ' ', '#', ' ', ' ', ' ', ' ', ' ',\n",
    "        ' ', ' '],\n",
    "       [' ', ' ', ' ', ' ', ' ', ' ', '#', ' ', ' ', ' ', ' ', ' ', '#',\n",
    "        ' ', ' ', ' ', ' ', ' ', ' ', ' ', '#', ' ', ' ', ' ', ' ', ' ',\n",
    "        ' ', ' '],\n",
    "       [' ', ' ', '#', ' ', ' ', ' ', '#', ' ', ' ', ' ', ' ', ' ', '#',\n",
    "        ' ', ' ', ' ', ' ', ' ', ' ', ' ', '#', ' ', ' ', ' ', ' ', ' ',\n",
    "        ' ', ' '],\n",
    "       [' ', ' ', '#', ' ', ' ', ' ', '#', ' ', ' ', ' ', ' ', ' ', '#',\n",
    "        ' ', ' ', ' ', ' ', ' ', ' ', ' ', '#', ' ', ' ', ' ', ' ', ' ',\n",
    "        ' ', ' '],\n",
    "       ['#', ' ', '#', ' ', ' ', ' ', '#', ' ', ' ', ' ', ' ', ' ', '#',\n",
    "        ' ', ' ', ' ', ' ', ' ', ' ', ' ', '#', ' ', ' ', ' ', ' ', ' ',\n",
    "        ' ', ' '],\n",
    "       [' ', ' ', '#', ' ', ' ', ' ', '#', ' ', ' ', ' ', ' ', ' ', '#',\n",
    "        ' ', ' ', ' ', ' ', ' ', ' ', ' ', '#', ' ', ' ', ' ', ' ', ' ',\n",
    "        ' ', ' '],\n",
    "       [' ', ' ', '#', ' ', ' ', ' ', '#', ' ', ' ', ' ', ' ', ' ', '#',\n",
    "        ' ', ' ', ' ', ' ', ' ', ' ', ' ', '#', ' ', ' ', ' ', ' ', ' ',\n",
    "        ' ', ' '],\n",
    "       [' ', ' ', '#', ' ', ' ', ' ', '#', ' ', ' ', ' ', ' ', ' ', '#',\n",
    "        ' ', ' ', ' ', ' ', ' ', ' ', ' ', '#', ' ', ' ', ' ', ' ', ' ',\n",
    "        ' ', 'T'],\n",
    "       [' ', ' ', '#', ' ', ' ', ' ', '#', '#', '#', '#', '#', ' ', '#',\n",
    "        '#', '#', '#', '#', ' ', ' ', ' ', '#', ' ', ' ', ' ', ' ', ' ',\n",
    "        ' ', ' '],\n",
    "       [' ', ' ', '#', ' ', ' ', ' ', '#', ' ', ' ', ' ', ' ', ' ', ' ',\n",
    "        ' ', ' ', ' ', '#', ' ', ' ', ' ', '#', ' ', ' ', ' ', ' ', ' ',\n",
    "        ' ', ' '],\n",
    "       [' ', ' ', '#', ' ', ' ', ' ', '#', ' ', ' ', ' ', ' ', ' ', ' ',\n",
    "        ' ', ' ', ' ', '#', ' ', ' ', ' ', '#', ' ', ' ', ' ', ' ', ' ',\n",
    "        ' ', ' '],\n",
    "       [' ', ' ', '#', ' ', ' ', ' ', '#', ' ', ' ', ' ', ' ', ' ', ' ',\n",
    "        ' ', ' ', ' ', '#', ' ', ' ', ' ', '#', ' ', ' ', ' ', ' ', ' ',\n",
    "        ' ', ' '],\n",
    "       [' ', ' ', '#', ' ', ' ', ' ', '#', ' ', ' ', ' ', ' ', ' ', ' ',\n",
    "        ' ', ' ', ' ', '#', ' ', ' ', ' ', '#', ' ', ' ', ' ', ' ', ' ',\n",
    "        ' ', ' '],\n",
    "       [' ', ' ', '#', ' ', ' ', ' ', '#', ' ', ' ', ' ', ' ', ' ', ' ',\n",
    "        ' ', ' ', ' ', '#', ' ', ' ', ' ', '#', ' ', ' ', ' ', ' ', ' ',\n",
    "        ' ', ' '],\n",
    "       [' ', ' ', '#', ' ', ' ', ' ', '#', ' ', ' ', ' ', ' ', ' ', ' ',\n",
    "        ' ', ' ', ' ', '#', ' ', ' ', ' ', '#', ' ', ' ', ' ', ' ', ' ',\n",
    "        ' ', ' '],\n",
    "       [' ', ' ', '#', ' ', ' ', ' ', '#', ' ', ' ', ' ', ' ', ' ', ' ',\n",
    "        ' ', ' ', ' ', '#', ' ', ' ', ' ', '#', ' ', ' ', ' ', ' ', ' ',\n",
    "        ' ', ' '],\n",
    "       [' ', ' ', '#', ' ', ' ', ' ', '#', ' ', ' ', ' ', ' ', ' ', ' ',\n",
    "        ' ', ' ', ' ', '#', ' ', ' ', ' ', '#', ' ', ' ', ' ', ' ', ' ',\n",
    "        ' ', ' '],\n",
    "       ['#', ' ', '#', ' ', ' ', ' ', '#', ' ', ' ', ' ', ' ', ' ', ' ',\n",
    "        ' ', ' ', ' ', '#', ' ', ' ', ' ', '#', ' ', ' ', ' ', ' ', ' ',\n",
    "        ' ', ' '],\n",
    "       [' ', ' ', '#', ' ', ' ', ' ', '#', ' ', ' ', ' ', ' ', ' ', ' ',\n",
    "        ' ', ' ', ' ', '#', ' ', ' ', ' ', '#', ' ', ' ', ' ', ' ', ' ',\n",
    "        ' ', ' '],\n",
    "       [' ', ' ', '#', ' ', ' ', ' ', '#', ' ', ' ', ' ', ' ', ' ', ' ',\n",
    "        ' ', ' ', ' ', '#', ' ', ' ', ' ', '#', ' ', ' ', ' ', ' ', ' ',\n",
    "        ' ', ' '],\n",
    "       [' ', ' ', '#', ' ', ' ', ' ', '#', '#', '#', '#', '#', ' ', '#',\n",
    "        '#', '#', '#', '#', ' ', ' ', ' ', '#', ' ', ' ', ' ', ' ', ' ',\n",
    "        ' ', ' '],\n",
    "       ['#', '#', '#', '#', '#', ' ', ' ', ' ', ' ', ' ', ' ', ' ', '#',\n",
    "        ' ', ' ', ' ', ' ', ' ', ' ', ' ', ' ', ' ', ' ', ' ', ' ', ' ',\n",
    "        ' ', ' '],\n",
    "       ['#', '#', '#', '#', '#', '#', '#', '#', '#', '#', '#', '#', '#',\n",
    "        '#', '#', '#', '#', '#', '#', '#', '#', ' ', ' ', ' ', ' ', ' ',\n",
    "        ' ', ' ']])"
   ]
  },
  {
   "cell_type": "markdown",
   "metadata": {
    "id": "ie7XURNUx9I1"
   },
   "source": [
    "Graph \"Generator\""
   ]
  },
  {
   "cell_type": "markdown",
   "metadata": {
    "id": "AXmE8RblOWhr"
   },
   "source": [
    "# Workhorse methods"
   ]
  },
  {
   "cell_type": "code",
   "execution_count": 54,
   "metadata": {
    "executionInfo": {
     "elapsed": 16,
     "status": "ok",
     "timestamp": 1637965019752,
     "user": {
      "displayName": "Jan Christian Kaiser",
      "photoUrl": "https://lh3.googleusercontent.com/a-/AOh14GimmYysXRezxt2RgVEciFULYHs48Hdj9DPi9piVlg=s64",
      "userId": "08449184934316396700"
     },
     "user_tz": -60
    },
    "id": "QYxir0CPIsJG"
   },
   "outputs": [],
   "source": [
    "####The purpose of this function is to generate a graph of the original maze\n",
    "def generateGraph(a_maze):\n",
    "  #initialize a graph \n",
    "  dim_maze = a_maze.shape[0] * a_maze.shape[1]\n",
    "  maze_graph = np.full((dim_maze,dim_maze),0)\n",
    "  #Please ignore the large amount of test outputs, \n",
    "  #the last time I did any actual programming was in the Java 1.6 era:)\n",
    "  \n",
    "  #iterate over all elements and check if a path to the neighbor to the right or\n",
    "  #down exists if feasible:\n",
    "\n",
    "  for i in range(a_maze.shape[0]): \n",
    "    \n",
    "      for j in range(a_maze.shape[1]):\n",
    "\n",
    "\n",
    "        if(i<a_maze.shape[0] - 1):\n",
    "\n",
    "          if(j<a_maze.shape[1] - 1): #behavior for all but the last column\n",
    "            #print(str(i)+\" \"+str(j), a_maze[i,j])\n",
    "            if(a_maze[i,j] != '#'): \n",
    "              if(a_maze[i,j + 1] != '#'): #Look to the right of the current postion\n",
    "              \n",
    "                maze_graph[i * a_maze.shape[1] + j,i * a_maze.shape[1] + j +1]=1\n",
    "                maze_graph[i * a_maze.shape[1] + j + 1,i * a_maze.shape[1] + j]=1\n",
    "\n",
    "              if(a_maze[i + 1,j]!='#'): #Look down from the current postion\n",
    "                              \n",
    "                maze_graph[i * a_maze.shape[1] + j,(i + 1) * a_maze.shape[1] + j]=1\n",
    "                maze_graph[(i + 1) * a_maze.shape[1] + j,i * a_maze.shape[1] + j]=1\n",
    "          else:\n",
    "            if(a_maze[i,j]!='#'): \n",
    "                if(a_maze[i + 1,j]!='#'): #Look down from the current postion\n",
    "                  maze_graph[i * a_maze.shape[1] + j,(i + 1) * a_maze.shape[1] + j]=1\n",
    "                  maze_graph[(i + 1) * a_maze.shape[1] + j,i * a_maze.shape[1] + j]=1\n",
    "        else:\n",
    "\n",
    "          if(j<a_maze.shape[1] - 1): #behavior for all but the last column\n",
    "            #print(str(i)+\" \"+str(j), a_maze[i,j])\n",
    "            if(a_maze[i,j]!='#'): \n",
    "              if(a_maze[i,j + 1] != '#'): #Look to the right of the current postion\n",
    "              \n",
    "                maze_graph[i * a_maze.shape[1] + j,i * a_maze.shape[1] + j +1]=1\n",
    "                maze_graph[i * a_maze.shape[1] + j + 1,i * a_maze.shape[1] + j]=1\n",
    "\n",
    "  return maze_graph"
   ]
  },
  {
   "cell_type": "markdown",
   "metadata": {
    "id": "1vCVD4APeQ3A"
   },
   "source": [
    "Calculate the fastest route"
   ]
  },
  {
   "cell_type": "code",
   "execution_count": 55,
   "metadata": {
    "executionInfo": {
     "elapsed": 16,
     "status": "ok",
     "timestamp": 1637965019754,
     "user": {
      "displayName": "Jan Christian Kaiser",
      "photoUrl": "https://lh3.googleusercontent.com/a-/AOh14GimmYysXRezxt2RgVEciFULYHs48Hdj9DPi9piVlg=s64",
      "userId": "08449184934316396700"
     },
     "user_tz": -60
    },
    "id": "HuGgj7OJeO2z"
   },
   "outputs": [],
   "source": [
    "###This is taken wholesale from https://stackoverflow.com/questions/53074947/examples-for-search-graph-using-scipy/53078901\n",
    "###I take no credit for this implementation\n",
    "#Reconstructs the shortest path via precedessors\n",
    "def get_path(Pr, i, j):\n",
    "    path = [j]\n",
    "    k = j\n",
    "    while Pr[i, k] != -9999:\n",
    "        path.append(Pr[i, k])\n",
    "        k = Pr[i, k]\n",
    "    return path[::-1]\n"
   ]
  },
  {
   "cell_type": "markdown",
   "metadata": {
    "id": "5vpA-nTwyXnF"
   },
   "source": [
    "Putting it all together"
   ]
  },
  {
   "cell_type": "code",
   "execution_count": 56,
   "metadata": {
    "executionInfo": {
     "elapsed": 15,
     "status": "ok",
     "timestamp": 1637965019755,
     "user": {
      "displayName": "Jan Christian Kaiser",
      "photoUrl": "https://lh3.googleusercontent.com/a-/AOh14GimmYysXRezxt2RgVEciFULYHs48Hdj9DPi9piVlg=s64",
      "userId": "08449184934316396700"
     },
     "user_tz": -60
    },
    "id": "xpddesKXyaPD"
   },
   "outputs": [],
   "source": [
    "def mazeSolver(a_maze):\n",
    "  maze_graph = generateGraph(a_maze)\n",
    "  #Takes a graph in the form of a numpy array\n",
    "  #and returns not only the shortest distances, \n",
    "  #but allows via predecessors to reconstruct the shortest path\n",
    "  #See method get_path, a link to the original implementation can be found there\n",
    "  #Dijkstra’s algorithm was selected out of familiarity\n",
    "  D, Pr = shortest_path(maze_graph, directed=False, method='D', return_predecessors=True)\n",
    "  #Detects source and target, assumes only a single instance of each:\n",
    "  source = np.where(a_maze=='S')\n",
    "  target = np.where(a_maze=='T')\n",
    "  a_path = get_path(Pr,source[0][0] * a_maze.shape[1] + source[1][0], target[0][0] * a_maze.shape[1] + target[1][0])\n",
    "  #iterates over all nodes on the shortest path and translates them to the original coordinate system:\n",
    "  for i in range(0,len(a_path)):#Crude but allows me to detect when I'm at the last iteration\n",
    "    if(i<len(a_path) - 1):\n",
    "      print('(' +str(a_path[i]//a_maze.shape[1])+\", \" +str(a_path[i]%a_maze.shape[1])+') -> ', end='')\n",
    "    else:\n",
    "      print('(' +str(a_path[i]//a_maze.shape[1])+\", \" +str(a_path[i]%a_maze.shape[1])+')')"
   ]
  },
  {
   "cell_type": "markdown",
   "metadata": {
    "id": "FkJs1ikB6Qoe"
   },
   "source": [
    "Solution Renderer"
   ]
  },
  {
   "cell_type": "code",
   "execution_count": 57,
   "metadata": {
    "executionInfo": {
     "elapsed": 15,
     "status": "ok",
     "timestamp": 1637965019757,
     "user": {
      "displayName": "Jan Christian Kaiser",
      "photoUrl": "https://lh3.googleusercontent.com/a-/AOh14GimmYysXRezxt2RgVEciFULYHs48Hdj9DPi9piVlg=s64",
      "userId": "08449184934316396700"
     },
     "user_tz": -60
    },
    "id": "Eg0bpQXO6TtQ"
   },
   "outputs": [],
   "source": [
    "#For a more detailed explanation see maze_graph\n",
    "def printSolution(a_maze):\n",
    "  maze_graph = generateGraph(a_maze)\n",
    "  D, Pr = shortest_path(maze_graph, directed=False, method='D', return_predecessors=True)\n",
    "  source = np.where(a_maze=='S')\n",
    " \n",
    "  target = np.where(a_maze=='T')\n",
    "  a_path = get_path(Pr,source[0][0]*a_maze.shape[1]+source[1][0],target[0][0]*a_maze.shape[1]+target[1][0])\n",
    "  b_maze = np.copy(a_maze) #This is to avoid overwriting the original array\n",
    "  for i in range(1,len(a_path) - 1):\n",
    "    b_maze[(a_path[i] // a_maze.shape[1]),(a_path[i] % a_maze.shape[1])]=':'\n",
    "\n",
    "  printMaze(b_maze)  "
   ]
  },
  {
   "cell_type": "markdown",
   "metadata": {
    "id": "8XGv4MPBOg7O"
   },
   "source": [
    "# Unit tests"
   ]
  },
  {
   "cell_type": "code",
   "execution_count": 58,
   "metadata": {
    "colab": {
     "base_uri": "https://localhost:8080/"
    },
    "executionInfo": {
     "elapsed": 363,
     "status": "ok",
     "timestamp": 1637965020107,
     "user": {
      "displayName": "Jan Christian Kaiser",
      "photoUrl": "https://lh3.googleusercontent.com/a-/AOh14GimmYysXRezxt2RgVEciFULYHs48Hdj9DPi9piVlg=s64",
      "userId": "08449184934316396700"
     },
     "user_tz": -60
    },
    "id": "HNvCzg_V3Rps",
    "outputId": "52fae1fb-b42b-4143-840b-a618eea30a27"
   },
   "outputs": [
    {
     "name": "stdout",
     "output_type": "stream",
     "text": [
      "(24, 0) -> (24, 1) -> (24, 2) -> (24, 3) -> (24, 4) -> (24, 5) -> (24, 6) -> (24, 7) -> (24, 8) -> (24, 9) -> (24, 10) -> (24, 11) -> (24, 12) -> (23, 12) -> (22, 12) -> (21, 12) -> (20, 12) -> (20, 11) -> (20, 10) -> (20, 9) -> (20, 8) -> (20, 7) -> (19, 7) -> (19, 6) -> (18, 6) -> (18, 5) -> (17, 5) -> (17, 4) -> (16, 4) -> (15, 4) -> (14, 4) -> (13, 4) -> (12, 4) -> (12, 5) -> (12, 6) -> (12, 7) -> (12, 8) -> (12, 9) -> (12, 10) -> (12, 11) -> (12, 12) -> (12, 13) -> (12, 14) -> (12, 15) -> (12, 16) -> (12, 17) -> (12, 18) -> (12, 19) -> (11, 19) -> (10, 19) -> (10, 20) -> (9, 20) -> (9, 21) -> (8, 21) -> (7, 21) -> (7, 20) -> (7, 19) -> (7, 18) -> (7, 17) -> (7, 16) -> (7, 15) -> (7, 14) -> (7, 13) -> (7, 12) -> (7, 11) -> (7, 10) -> (7, 9) -> (7, 8) -> (7, 7) -> (7, 6) -> (7, 5) -> (6, 5) -> (5, 5) -> (5, 4) -> (4, 4) -> (4, 3) -> (3, 3) -> (2, 3) -> (2, 4) -> (2, 5) -> (2, 6) -> (2, 7) -> (2, 8) -> (2, 9) -> (2, 10) -> (2, 11) -> (2, 12) -> (2, 13) -> (2, 14) -> (2, 15) -> (2, 16) -> (2, 17) -> (2, 18) -> (2, 19) -> (2, 20) -> (2, 21) -> (2, 22) -> (2, 23) -> (2, 24) -> (3, 24) -> (4, 24) -> (5, 24) -> (6, 24) -> (7, 24) -> (8, 24) -> (9, 24) -> (10, 24) -> (11, 24) -> (12, 24) -> (13, 24) -> (14, 24) -> (14, 23) -> (15, 23) -> (16, 23) -> (16, 22) -> (16, 21) -> (17, 21) -> (17, 20) -> (18, 20) -> (18, 19) -> (18, 18) -> (18, 17) -> (19, 17) -> (20, 17) -> (21, 17) -> (22, 17) -> (22, 18) -> (22, 19) -> (22, 20) -> (23, 20) -> (24, 20) -> (24, 21) -> (24, 22) -> (24, 23) -> (24, 24) -> (24, 25) -> (24, 26) -> (23, 26) -> (22, 26) -> (21, 26) -> (20, 26) -> (19, 26) -> (18, 26) -> (17, 26) -> (16, 26) -> (15, 26) -> (14, 26) -> (13, 26) -> (12, 26) -> (11, 26) -> (10, 26) -> (9, 26) -> (8, 26) -> (7, 26) -> (6, 26) -> (5, 26) -> (4, 26) -> (3, 26) -> (2, 26) -> (1, 26) -> (0, 26) -> (0, 27) -> (0, 28) -> (0, 29)\n",
      "\n",
      "-------------------------------- \n",
      "|                         #   T|\n",
      "|                         #    |\n",
      "|                         #    |\n",
      "|    #################### #    |\n",
      "|                       # #    |\n",
      "|                       # #    |\n",
      "|                       # #    |\n",
      "|                       # #    |\n",
      "|#####################  # #    |\n",
      "|                       # #    |\n",
      "|                       # #    |\n",
      "|                       # #    |\n",
      "|                       # #    |\n",
      "|     ################### #    |\n",
      "|     #                   #    |\n",
      "|     #                   #    |\n",
      "|     #########          ##    |\n",
      "|          #  #         # #    |\n",
      "|          #  #        #  #    |\n",
      "|             #    ####   #    |\n",
      "|             #           #    |\n",
      "|############ #           #    |\n",
      "|           # #           #    |\n",
      "|           # #           #    |\n",
      "|S            #                |\n",
      "--------------------------------\n",
      "-------------------------------- \n",
      "|                         #:::T|\n",
      "|                         #:   |\n",
      "|   ::::::::::::::::::::::#:   |\n",
      "|   :####################:#:   |\n",
      "|   ::                  #:#:   |\n",
      "|    ::                 #:#:   |\n",
      "|     :                 #:#:   |\n",
      "|     ::::::::::::::::: #:#:   |\n",
      "|#####################: #:#:   |\n",
      "|                    :: #:#:   |\n",
      "|                   ::  #:#:   |\n",
      "|                   :   #:#:   |\n",
      "|    ::::::::::::::::   #:#:   |\n",
      "|    :###################:#:   |\n",
      "|    :#                 ::#:   |\n",
      "|    :#                 : #:   |\n",
      "|    :#########       :::##:   |\n",
      "|    ::    #  #      :: # #:   |\n",
      "|     ::   #  #   :::: #  #:   |\n",
      "|      ::     #   :####   #:   |\n",
      "|       ::::::#   :       #:   |\n",
      "|############:#   :       #:   |\n",
      "|           #:#   ::::    #:   |\n",
      "|           #:#      :    #:   |\n",
      "|S::::::::::::#      :::::::   |\n",
      "--------------------------------"
     ]
    }
   ],
   "source": [
    "mazeSolver(test_case0)\n",
    "printMaze(test_case0)\n",
    "printSolution(test_case0)"
   ]
  },
  {
   "cell_type": "code",
   "execution_count": 59,
   "metadata": {
    "colab": {
     "base_uri": "https://localhost:8080/"
    },
    "executionInfo": {
     "elapsed": 723,
     "status": "ok",
     "timestamp": 1637965020824,
     "user": {
      "displayName": "Jan Christian Kaiser",
      "photoUrl": "https://lh3.googleusercontent.com/a-/AOh14GimmYysXRezxt2RgVEciFULYHs48Hdj9DPi9piVlg=s64",
      "userId": "08449184934316396700"
     },
     "user_tz": -60
    },
    "id": "XPG0Rz8vJ4fx",
    "outputId": "83090128-336e-4ef6-8f9b-784d05c1824c"
   },
   "outputs": [
    {
     "name": "stdout",
     "output_type": "stream",
     "text": [
      "(25, 0) -> (24, 0) -> (23, 0) -> (23, 1) -> (22, 1) -> (21, 1) -> (20, 1) -> (19, 1) -> (18, 1) -> (17, 1) -> (16, 1) -> (15, 1) -> (14, 1) -> (13, 1) -> (12, 1) -> (11, 1) -> (10, 1) -> (9, 1) -> (8, 1) -> (7, 1) -> (6, 1) -> (6, 2) -> (6, 3) -> (7, 3) -> (8, 3) -> (9, 3) -> (10, 3) -> (11, 3) -> (12, 3) -> (13, 3) -> (14, 3) -> (15, 3) -> (16, 3) -> (17, 3) -> (18, 3) -> (19, 3) -> (20, 3) -> (21, 3) -> (22, 3) -> (23, 3) -> (24, 3) -> (25, 3) -> (25, 4) -> (25, 5) -> (26, 5) -> (26, 6) -> (26, 7) -> (26, 8) -> (26, 9) -> (26, 10) -> (26, 11) -> (25, 11) -> (24, 11) -> (23, 11) -> (22, 11) -> (21, 11) -> (20, 11) -> (19, 11) -> (18, 11) -> (17, 11) -> (16, 11) -> (15, 11) -> (14, 11) -> (13, 11) -> (12, 11) -> (11, 11) -> (10, 11) -> (9, 11) -> (8, 11) -> (7, 11) -> (6, 11) -> (5, 11) -> (4, 11) -> (3, 11) -> (3, 12) -> (3, 13) -> (3, 14) -> (3, 15) -> (3, 16) -> (3, 17) -> (4, 17) -> (5, 17) -> (6, 17) -> (7, 17) -> (8, 17) -> (9, 17) -> (10, 17) -> (11, 17) -> (12, 17) -> (13, 17) -> (14, 17) -> (15, 17) -> (16, 17) -> (17, 17) -> (18, 17) -> (19, 17) -> (20, 17) -> (21, 17) -> (22, 17) -> (23, 17) -> (24, 17) -> (24, 18) -> (24, 19) -> (25, 19) -> (26, 19) -> (26, 20) -> (26, 21) -> (25, 21) -> (24, 21) -> (23, 21) -> (22, 21) -> (21, 21) -> (20, 21) -> (19, 21) -> (18, 21) -> (17, 21) -> (16, 21) -> (15, 21) -> (14, 21) -> (14, 22) -> (13, 22) -> (12, 22) -> (11, 22) -> (10, 22) -> (9, 22) -> (9, 23) -> (9, 24) -> (9, 25) -> (9, 26) -> (8, 26) -> (7, 26) -> (6, 26) -> (5, 26) -> (4, 26) -> (4, 27) -> (3, 27) -> (3, 28) -> (2, 28) -> (2, 29) -> (1, 29) -> (1, 30) -> (0, 30) -> (0, 31) -> (0, 32) -> (0, 33)\n",
      "\n",
      "------------------------------------ \n",
      "|                                 T|\n",
      "|                                  |\n",
      "|#######################           |\n",
      "|      #             #             |\n",
      "|##### ##### ##### #####           |\n",
      "|  #   #     #       #             |\n",
      "|      #     #       #             |\n",
      "|  #   #     #       #             |\n",
      "|  #   #     #       #             |\n",
      "|# #   #     #       #             |\n",
      "|  #   #     #       #             |\n",
      "|  #   #     #       #             |\n",
      "|  #   #     #       #             |\n",
      "|  #   ##### #####   #             |\n",
      "|  #   #         #   #             |\n",
      "|  #   #         #   #             |\n",
      "|  #   #         #   #             |\n",
      "|  #   #         #   #             |\n",
      "|  #   #         #   #             |\n",
      "|  #   #         #   #             |\n",
      "|  #   #         #   #             |\n",
      "|  #   #         #   #             |\n",
      "|# #   #         #   #             |\n",
      "|  #   #         #   #             |\n",
      "|  #   #         #   #             |\n",
      "|S #   ##### #####   #             |\n",
      "|#####       #                     |\n",
      "|#####################             |\n",
      "------------------------------------\n",
      "------------------------------------ \n",
      "|                              :::T|\n",
      "|                             ::   |\n",
      "|#######################     ::    |\n",
      "|      #    :::::::  #      ::     |\n",
      "|##### #####:#####:#####   ::      |\n",
      "|  #   #    :#    :  #     :       |\n",
      "| :::  #    :#    :  #     :       |\n",
      "| :#:  #    :#    :  #     :       |\n",
      "| :#:  #    :#    :  #     :       |\n",
      "|#:#:  #    :#    :  # :::::       |\n",
      "| :#:  #    :#    :  # :           |\n",
      "| :#:  #    :#    :  # :           |\n",
      "| :#:  #    :#    :  # :           |\n",
      "| :#:  #####:#####:  # :           |\n",
      "| :#:  #    :    #:  #::           |\n",
      "| :#:  #    :    #:  #:            |\n",
      "| :#:  #    :    #:  #:            |\n",
      "| :#:  #    :    #:  #:            |\n",
      "| :#:  #    :    #:  #:            |\n",
      "| :#:  #    :    #:  #:            |\n",
      "| :#:  #    :    #:  #:            |\n",
      "| :#:  #    :    #:  #:            |\n",
      "|#:#:  #    :    #:  #:            |\n",
      "|::#:  #    :    #:  #:            |\n",
      "|: #:  #    :    #:::#:            |\n",
      "|S #:::#####:#####  :#:            |\n",
      "|#####:::::::#      :::            |\n",
      "|#####################             |\n",
      "------------------------------------"
     ]
    }
   ],
   "source": [
    "mazeSolver(test_case1)\n",
    "printMaze(test_case1)\n",
    "printSolution(test_case1)"
   ]
  },
  {
   "cell_type": "code",
   "execution_count": 60,
   "metadata": {
    "colab": {
     "base_uri": "https://localhost:8080/"
    },
    "executionInfo": {
     "elapsed": 468,
     "status": "ok",
     "timestamp": 1637965021289,
     "user": {
      "displayName": "Jan Christian Kaiser",
      "photoUrl": "https://lh3.googleusercontent.com/a-/AOh14GimmYysXRezxt2RgVEciFULYHs48Hdj9DPi9piVlg=s64",
      "userId": "08449184934316396700"
     },
     "user_tz": -60
    },
    "id": "SA_GGwjxMuqw",
    "outputId": "0e3221cb-a2ad-4538-8936-12c5a7032951"
   },
   "outputs": [
    {
     "name": "stdout",
     "output_type": "stream",
     "text": [
      "(0, 0) -> (0, 1) -> (0, 2) -> (0, 3) -> (0, 4) -> (0, 5) -> (0, 6) -> (0, 7) -> (0, 8) -> (0, 9) -> (0, 10) -> (0, 11) -> (0, 12) -> (0, 13) -> (0, 14) -> (0, 15) -> (0, 16) -> (0, 17) -> (0, 18) -> (0, 19) -> (0, 20) -> (0, 21) -> (0, 22) -> (0, 23) -> (1, 23) -> (2, 23) -> (3, 23) -> (4, 23) -> (5, 23) -> (6, 23) -> (6, 24) -> (7, 24) -> (8, 24) -> (8, 25) -> (9, 25) -> (10, 25) -> (10, 26) -> (10, 27) -> (11, 27) -> (12, 27)\n",
      "\n",
      "------------------------------ \n",
      "|S                           |\n",
      "|                            |\n",
      "| ######################     |\n",
      "|      #             #       |\n",
      "| #### ##### ##### #####     |\n",
      "|  #   #     #       #       |\n",
      "|      #     #       #       |\n",
      "|  #   #     #       #       |\n",
      "|  #   #     #       #       |\n",
      "|# #   #     #       #       |\n",
      "|  #   #     #       #       |\n",
      "|  #   #     #       #       |\n",
      "|  #   #     #       #      T|\n",
      "|  #   ##### #####   #       |\n",
      "|  #   #         #   #       |\n",
      "|  #   #         #   #       |\n",
      "|  #   #         #   #       |\n",
      "|  #   #         #   #       |\n",
      "|  #   #         #   #       |\n",
      "|  #   #         #   #       |\n",
      "|  #   #         #   #       |\n",
      "|  #   #         #   #       |\n",
      "|# #   #         #   #       |\n",
      "|  #   #         #   #       |\n",
      "|  #   #         #   #       |\n",
      "|  #   ##### #####   #       |\n",
      "|#####       #               |\n",
      "|#####################       |\n",
      "------------------------------\n",
      "------------------------------ \n",
      "|S:::::::::::::::::::::::    |\n",
      "|                       :    |\n",
      "| ######################:    |\n",
      "|      #             #  :    |\n",
      "| #### ##### ##### #####:    |\n",
      "|  #   #     #       #  :    |\n",
      "|      #     #       #  ::   |\n",
      "|  #   #     #       #   :   |\n",
      "|  #   #     #       #   ::  |\n",
      "|# #   #     #       #    :  |\n",
      "|  #   #     #       #    :::|\n",
      "|  #   #     #       #      :|\n",
      "|  #   #     #       #      T|\n",
      "|  #   ##### #####   #       |\n",
      "|  #   #         #   #       |\n",
      "|  #   #         #   #       |\n",
      "|  #   #         #   #       |\n",
      "|  #   #         #   #       |\n",
      "|  #   #         #   #       |\n",
      "|  #   #         #   #       |\n",
      "|  #   #         #   #       |\n",
      "|  #   #         #   #       |\n",
      "|# #   #         #   #       |\n",
      "|  #   #         #   #       |\n",
      "|  #   #         #   #       |\n",
      "|  #   ##### #####   #       |\n",
      "|#####       #               |\n",
      "|#####################       |\n",
      "------------------------------"
     ]
    }
   ],
   "source": [
    "mazeSolver(test_case2)\n",
    "printMaze(test_case2)\n",
    "printSolution(test_case2)"
   ]
  }
 ],
 "metadata": {
  "colab": {
   "authorship_tag": "ABX9TyOvE2TgZklZ1iLKpmODeqyf",
   "name": "Final Take Home Exam and Summary Jan Kaiser 00325002.ipynb",
   "provenance": [
    {
     "file_id": "1l1TPYOhVv-d0Cd5rzSqnTQLT4R_HS6Zz",
     "timestamp": 1637961046388
    }
   ],
   "toc_visible": true
  },
  "kernelspec": {
   "display_name": "Python 3 (ipykernel)",
   "language": "python",
   "name": "python3"
  },
  "language_info": {
   "codemirror_mode": {
    "name": "ipython",
    "version": 3
   },
   "file_extension": ".py",
   "mimetype": "text/x-python",
   "name": "python",
   "nbconvert_exporter": "python",
   "pygments_lexer": "ipython3",
   "version": "3.9.12"
  }
 },
 "nbformat": 4,
 "nbformat_minor": 4
}
